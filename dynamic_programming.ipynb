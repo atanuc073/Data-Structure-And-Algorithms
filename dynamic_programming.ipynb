{
 "cells": [
  {
   "cell_type": "markdown",
   "id": "3fa6de39",
   "metadata": {},
   "source": [
    "### Climbing Stairs\n",
    "https://leetcode.com/problems/climbing-stairs/"
   ]
  },
  {
   "cell_type": "code",
   "execution_count": 17,
   "id": "eaa73442",
   "metadata": {},
   "outputs": [],
   "source": [
    "def climbstairs(n):\n",
    "    arr=[1,1]\n",
    "    if n==0:\n",
    "        return 1\n",
    "    if n==1:\n",
    "        return 1\n",
    "    for i in range(2,n+1):\n",
    "\n",
    "        temp=sum(arr)\n",
    "        arr[0]=arr[1]\n",
    "        arr[1]=temp\n",
    "    return arr[1]\n",
    "        "
   ]
  },
  {
   "cell_type": "code",
   "execution_count": 19,
   "id": "3294f437",
   "metadata": {},
   "outputs": [
    {
     "data": {
      "text/plain": [
       "5"
      ]
     },
     "execution_count": 19,
     "metadata": {},
     "output_type": "execute_result"
    }
   ],
   "source": [
    "climbstairs(4)"
   ]
  },
  {
   "cell_type": "markdown",
   "id": "67c797db",
   "metadata": {},
   "source": [
    "## House Robber\n",
    "https://leetcode.com/problems/house-robber-ii/description/"
   ]
  },
  {
   "cell_type": "code",
   "execution_count": null,
   "id": "44e5fa45",
   "metadata": {},
   "outputs": [],
   "source": [
    "robber_gain=[2,3,-1]"
   ]
  },
  {
   "cell_type": "code",
   "execution_count": 13,
   "id": "4c87a65e",
   "metadata": {},
   "outputs": [],
   "source": [
    "houses=[2,3,2,4,1,5,3,1]\n",
    "def robber(arr):\n",
    "    robber_gain=[arr[0],arr[1]]+[-1]*(len(arr)-2)\n",
    "\n",
    "    \n",
    "    for i in range(2,len(arr)):\n",
    "        robber_gain[i]=max((arr[i]+robber_gain[i-2]),robber_gain[i-1])\n",
    "    return robber_gain[-1]\n",
    "\n",
    "    \n",
    "    \n",
    "        "
   ]
  },
  {
   "cell_type": "code",
   "execution_count": 14,
   "id": "dcf40b66",
   "metadata": {},
   "outputs": [
    {
     "name": "stdout",
     "output_type": "stream",
     "text": [
      "[2, 3, -1, -1, -1, -1, -1, -1]\n",
      "[2, 3, 4, 7, 7, 12, 12, 13]\n"
     ]
    }
   ],
   "source": [
    "robber(houses)"
   ]
  },
  {
   "cell_type": "code",
   "execution_count": 15,
   "id": "af9b76d6",
   "metadata": {},
   "outputs": [
    {
     "data": {
      "text/plain": [
       "[2, 3, 2, 4, 1, 5, 3, 1]"
      ]
     },
     "execution_count": 15,
     "metadata": {},
     "output_type": "execute_result"
    }
   ],
   "source": [
    "houses"
   ]
  },
  {
   "cell_type": "code",
   "execution_count": 3,
   "id": "adee6326",
   "metadata": {},
   "outputs": [],
   "source": [
    "def circular_robber(nums):\n",
    "    def rob_helper(nums):\n",
    "        if not nums:\n",
    "            return 0\n",
    "        if len(nums) == 1:\n",
    "            return nums[0]\n",
    "        \n",
    "        dp = [0] * len(nums)\n",
    "        dp[0] = nums[0]\n",
    "        dp[1] = max(nums[0], nums[1])\n",
    "        \n",
    "        for i in range(2, len(nums)):\n",
    "            dp[i] = max(dp[i-1], dp[i-2] + nums[i])\n",
    "        \n",
    "        return dp[-1]\n",
    "    \n",
    "    # Two cases: Rob the first house and exclude the last house, or do not rob the first house and consider robbing the last house.\n",
    "    max1 = rob_helper(nums[:-1])\n",
    "    max2 = rob_helper(nums[1:])\n",
    "    \n",
    "    return max(max1, max2)\n",
    "\n",
    "\n"
   ]
  },
  {
   "cell_type": "code",
   "execution_count": 4,
   "id": "25d70dc7",
   "metadata": {},
   "outputs": [
    {
     "data": {
      "text/plain": [
       "103"
      ]
     },
     "execution_count": 4,
     "metadata": {},
     "output_type": "execute_result"
    }
   ],
   "source": [
    "circular_robber([1,3,1,3,100])"
   ]
  },
  {
   "cell_type": "code",
   "execution_count": null,
   "id": "c78075c8",
   "metadata": {},
   "outputs": [],
   "source": []
  },
  {
   "cell_type": "markdown",
   "id": "05799f71",
   "metadata": {},
   "source": [
    "## Longest Increasing Subssequence"
   ]
  },
  {
   "cell_type": "code",
   "execution_count": 10,
   "id": "cd53f81c",
   "metadata": {},
   "outputs": [],
   "source": [
    "nums = [10,9,2,5,3,7,101,18]\n",
    "output=4"
   ]
  },
  {
   "cell_type": "code",
   "execution_count": 14,
   "id": "ce4fae9a",
   "metadata": {},
   "outputs": [],
   "source": [
    "def lengthofLIS(nums):\n",
    "    dp=[1]*len(nums)\n",
    "\n",
    "    for i in range(1,len(nums)):\n",
    "        temp_arr=[1]\n",
    "        for j in range(0,i):\n",
    "            if nums[i]>nums[j]:\n",
    "                temp_arr.append(dp[j]+1)\n",
    "        dp[i]=max(temp_arr)\n",
    "    return dp[-1]"
   ]
  },
  {
   "cell_type": "code",
   "execution_count": 15,
   "id": "9ea5ba2e",
   "metadata": {},
   "outputs": [],
   "source": [
    "dp=lengthofLIS(nums)"
   ]
  },
  {
   "cell_type": "code",
   "execution_count": 16,
   "id": "2998a2e4",
   "metadata": {},
   "outputs": [
    {
     "data": {
      "text/plain": [
       "4"
      ]
     },
     "execution_count": 16,
     "metadata": {},
     "output_type": "execute_result"
    }
   ],
   "source": [
    "dp"
   ]
  },
  {
   "cell_type": "markdown",
   "id": "31353eb0",
   "metadata": {},
   "source": [
    "## Nunber of Unique Path\n",
    "Leetcode : https://leetcode.com/problems/unique-paths/"
   ]
  },
  {
   "cell_type": "code",
   "execution_count": 12,
   "id": "fbe6a21e",
   "metadata": {},
   "outputs": [],
   "source": [
    "def uniquePaths(m,n):\n",
    "    # m : row and n is column\n",
    "    dp=[[0]*n]*m\n",
    "    dp[0]=[1]*n\n",
    "    for i in range(m):\n",
    "        dp[i][0]=1\n",
    "    for i in range(1,m):\n",
    "        for j in range(1,n):\n",
    "            dp[i][j]=dp[i][j-1]+dp[i-1][j]\n",
    "    return dp[-1][-1]"
   ]
  },
  {
   "cell_type": "code",
   "execution_count": 13,
   "id": "89ba7424",
   "metadata": {},
   "outputs": [
    {
     "data": {
      "text/plain": [
       "28"
      ]
     },
     "execution_count": 13,
     "metadata": {},
     "output_type": "execute_result"
    }
   ],
   "source": [
    "uniquePaths(3,7)"
   ]
  },
  {
   "cell_type": "code",
   "execution_count": null,
   "id": "3a2d67e5",
   "metadata": {},
   "outputs": [],
   "source": []
  }
 ],
 "metadata": {
  "kernelspec": {
   "display_name": "Python 3 (ipykernel)",
   "language": "python",
   "name": "python3"
  },
  "language_info": {
   "codemirror_mode": {
    "name": "ipython",
    "version": 3
   },
   "file_extension": ".py",
   "mimetype": "text/x-python",
   "name": "python",
   "nbconvert_exporter": "python",
   "pygments_lexer": "ipython3",
   "version": "3.7.16"
  }
 },
 "nbformat": 4,
 "nbformat_minor": 5
}
