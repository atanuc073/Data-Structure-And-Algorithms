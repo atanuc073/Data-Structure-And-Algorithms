{
 "cells": [
  {
   "cell_type": "code",
   "execution_count": 7,
   "id": "110ea91d",
   "metadata": {},
   "outputs": [],
   "source": [
    "a=[11,12,13,14,15,16,17,18,19,20,1,2,3,4,5,6,7,8,9,10,]\n",
    "target=13"
   ]
  },
  {
   "cell_type": "code",
   "execution_count": 9,
   "id": "2b8bd235",
   "metadata": {},
   "outputs": [],
   "source": [
    "def rotated_sorted_array(arr,target):\n",
    "    # left \n",
    "    low=0\n",
    "    high=len(arr)-1\n",
    "    \n",
    "    while (high>low):\n",
    "        mid=(low+high)//2\n",
    "\n",
    "\n",
    "        ## case1\n",
    "        if arr[mid]==target:\n",
    "            return mid\n",
    "\n",
    "        ## case 2 # right part\n",
    "        if arr[mid]<=arr[high]:\n",
    "            ## two cases either target is less the mid or greater than the mid\n",
    "            if ((target>arr[mid]) and (target<=arr[high])):\n",
    "                low=mid+1\n",
    "            else:\n",
    "                high=mid-1\n",
    "\n",
    "\n",
    "        ## case 3  ##left part\n",
    "        if arr[mid]>=arr[low]:\n",
    "            if ((target<arr[mid]) and (target>arr[low])):\n",
    "                high=mid-1\n",
    "            else:\n",
    "                low=mid+1\n",
    "    return -1\n",
    "        \n",
    "        \n",
    "        \n",
    "        \n",
    "    \n",
    "    "
   ]
  },
  {
   "cell_type": "code",
   "execution_count": 10,
   "id": "c651fdca",
   "metadata": {},
   "outputs": [
    {
     "data": {
      "text/plain": [
       "2"
      ]
     },
     "execution_count": 10,
     "metadata": {},
     "output_type": "execute_result"
    }
   ],
   "source": [
    "rotated_sorted_array(a,target)"
   ]
  },
  {
   "cell_type": "markdown",
   "id": "c42dc2d8",
   "metadata": {},
   "source": [
    "## Prefix Sum\n"
   ]
  },
  {
   "cell_type": "code",
   "execution_count": 2,
   "id": "5374a63b",
   "metadata": {},
   "outputs": [],
   "source": [
    "matrix=[[1,2,3],\n",
    "       [4,5,6],\n",
    "       [7,8,9]]\n",
    "\n",
    "def calculateprefixSum(matrix):\n",
    "    prefixSum=[[0] * len(matrix[0]) for _ in range(len(matrix))]\n",
    "    summ=0\n",
    "    \n",
    "    for i in range(len(matrix[0])):\n",
    "        summ+=matrix[0][i]\n",
    "        prefixSum[0][i]=summ\n",
    "        \n",
    "    summ=0\n",
    "    for i in range(len(matrix)):\n",
    "        summ+=matrix[i][0]\n",
    "        prefixSum[i][0]=summ\n",
    "        \n",
    "    for i in range(1,len(matrix[0])):\n",
    "        for j in range(1,len(matrix)):\n",
    "            prefixSum[i][j]=(matrix[i][j]+prefixSum[i-1][j]+\n",
    "                            prefixSum[i][j-1]-prefixSum[i-1][j-1])\n",
    "            \n",
    "    return prefixSum"
   ]
  },
  {
   "cell_type": "code",
   "execution_count": 6,
   "id": "1d33b604",
   "metadata": {},
   "outputs": [],
   "source": [
    "prefixSum=calculateprefixSum(matrix)"
   ]
  },
  {
   "cell_type": "code",
   "execution_count": 4,
   "id": "3b951300",
   "metadata": {},
   "outputs": [],
   "source": [
    "\n",
    "queries=[((0,1),(1,2))]"
   ]
  },
  {
   "cell_type": "code",
   "execution_count": 13,
   "id": "a51c677a",
   "metadata": {},
   "outputs": [
    {
     "name": "stdout",
     "output_type": "stream",
     "text": [
      "16\n"
     ]
    }
   ],
   "source": [
    "for i in queries:\n",
    "    x1,y1=i[0]\n",
    "    x2,y2=i[1]\n",
    "    z1=x1-1\n",
    "    z2=y1-1\n",
    "    if z1 ==-1 :\n",
    "        result=(prefixSum[x2][y2] -prefixSum[x2][z2])\n",
    "    elif z2==-1 :\n",
    "        result=(prefixSum[x2][y2] -prefixSum[z1][y2])\n",
    "        \n",
    "    else:\n",
    "        result=(prefixSum[x2][y2] -prefixSum[z1][y2]-prefixSum[x2][z2]+prefixSum[z1][z2])\n",
    "    print(result)"
   ]
  },
  {
   "cell_type": "markdown",
   "id": "d0453d52",
   "metadata": {},
   "source": [
    "## Search in sorted 2D matrix\n",
    "## lleettcode https://leetcode.com/problems/search-a-2d-matrix/"
   ]
  },
  {
   "cell_type": "code",
   "execution_count": 47,
   "id": "5b90f78a",
   "metadata": {},
   "outputs": [],
   "source": [
    "arr=[[1,3,5,7],[10,11,16,20],[23,30,34,60]]\n",
    "target=13"
   ]
  },
  {
   "cell_type": "code",
   "execution_count": 48,
   "id": "bc5716ab",
   "metadata": {},
   "outputs": [
    {
     "name": "stdout",
     "output_type": "stream",
     "text": [
      "[[1, 3, 5, 7], [10, 11, 16, 20], [23, 30, 34, 60]]\n"
     ]
    }
   ],
   "source": [
    "print(arr)"
   ]
  },
  {
   "cell_type": "code",
   "execution_count": 49,
   "id": "c9459c0b",
   "metadata": {},
   "outputs": [
    {
     "data": {
      "text/plain": [
       "3"
      ]
     },
     "execution_count": 49,
     "metadata": {},
     "output_type": "execute_result"
    }
   ],
   "source": [
    "len(arr)"
   ]
  },
  {
   "cell_type": "code",
   "execution_count": 52,
   "id": "d6e3069a",
   "metadata": {},
   "outputs": [],
   "source": [
    "def searchMatrix(arr,target):\n",
    "    row=0\n",
    "    col=len(arr[0])-1\n",
    "    \n",
    "    while (row<=len(arr)-1 and col>0):\n",
    "        if arr[row][col]==target:\n",
    "            return True\n",
    "        elif arr[row][col]>target:\n",
    "            col=col-1\n",
    "\n",
    "        elif arr[row][col]<target:\n",
    "            row=row+1\n",
    "        \n",
    "    return False\n",
    "        "
   ]
  },
  {
   "cell_type": "code",
   "execution_count": 53,
   "id": "a22d63bf",
   "metadata": {},
   "outputs": [
    {
     "name": "stdout",
     "output_type": "stream",
     "text": [
      "7\n",
      "20\n",
      "16\n",
      "11\n",
      "30\n"
     ]
    }
   ],
   "source": [
    "a=searchMatrix(arr,target)"
   ]
  },
  {
   "cell_type": "code",
   "execution_count": 54,
   "id": "3460bbfa",
   "metadata": {},
   "outputs": [
    {
     "data": {
      "text/plain": [
       "False"
      ]
     },
     "execution_count": 54,
     "metadata": {},
     "output_type": "execute_result"
    }
   ],
   "source": [
    "a"
   ]
  },
  {
   "cell_type": "markdown",
   "id": "40a86599",
   "metadata": {},
   "source": [
    "## recursion\n",
    "\n",
    "## create all the permutations of a string"
   ]
  },
  {
   "cell_type": "code",
   "execution_count": 25,
   "id": "5b11bc65",
   "metadata": {},
   "outputs": [],
   "source": [
    "def create_permutation(s):\n",
    "    answers=[]\n",
    "    if len(s)==1:\n",
    "        answers.append(s)\n",
    "        return answers\n",
    "    temp=[]\n",
    "    for i in range(0,len(s)):\n",
    "        first_letter=s[i] \n",
    "        remain_string=s[0:i]+s[i+1:]\n",
    "        \n",
    "        per =create_permutation(remain_string)\n",
    "        \n",
    "        for p in per :\n",
    "            temp.append(first_letter+p)\n",
    "    return temp\n",
    "            \n",
    "        \n",
    "        \n",
    "    "
   ]
  },
  {
   "cell_type": "code",
   "execution_count": 31,
   "id": "7fa85aa3",
   "metadata": {},
   "outputs": [],
   "source": [
    "a=create_permutation(\"abcdefgh\")"
   ]
  },
  {
   "cell_type": "markdown",
   "id": "34749abf",
   "metadata": {},
   "source": [
    "## Subset Sum"
   ]
  },
  {
   "cell_type": "code",
   "execution_count": 3,
   "id": "4bd2c5a6",
   "metadata": {},
   "outputs": [],
   "source": [
    "arr=[1,2,3]"
   ]
  },
  {
   "cell_type": "code",
   "execution_count": 20,
   "id": "329c75b4",
   "metadata": {},
   "outputs": [],
   "source": [
    "def subset_element(arr):\n",
    "    answers=set()\n",
    "    \n",
    "    def helper_fun(ds,ind):\n",
    "        if ind==len(arr):\n",
    "            answers.add(tuple(ds))\n",
    "            return\n",
    "        # take the element\n",
    "        ds.append(arr[ind])\n",
    "        helper_fun(ds,ind+1)\n",
    "        # dont take the element\n",
    "        ds.pop()\n",
    "        helper_fun(ds,ind+1)\n",
    "    helper_fun([],0)\n",
    "    return answers\n",
    "            \n",
    "            \n",
    "    \n"
   ]
  },
  {
   "cell_type": "code",
   "execution_count": 21,
   "id": "462679c7",
   "metadata": {},
   "outputs": [],
   "source": [
    "ans=subset_element(arr)\n"
   ]
  },
  {
   "cell_type": "code",
   "execution_count": 22,
   "id": "6822d13c",
   "metadata": {},
   "outputs": [
    {
     "data": {
      "text/plain": [
       "{(), (1,), (1, 2), (1, 2, 3), (1, 3), (2,), (2, 3), (3,)}"
      ]
     },
     "execution_count": 22,
     "metadata": {},
     "output_type": "execute_result"
    }
   ],
   "source": [
    "ans"
   ]
  },
  {
   "cell_type": "code",
   "execution_count": 6,
   "id": "b31f3058",
   "metadata": {},
   "outputs": [
    {
     "name": "stdout",
     "output_type": "stream",
     "text": [
      "[[1, 2, 3], [1, 2], [1, 3], [1], [2, 3], [2], [3], []]\n"
     ]
    }
   ],
   "source": [
    "def subset_element(arr):\n",
    "    answers = []\n",
    "\n",
    "    def helper_fun(ds, ind):\n",
    "        if ind >= len(arr):\n",
    "            answers.append(ds.copy())  # Create a copy of the current subset\n",
    "            return\n",
    "        # Include the element at index 'ind'\n",
    "        ds.append(arr[ind])\n",
    "        helper_fun(ds, ind + 1)\n",
    "        # Exclude the element at index 'ind'\n",
    "        ds.pop()\n",
    "        helper_fun(ds, ind + 1)\n",
    "\n",
    "    helper_fun([], 0)\n",
    "    return answers\n",
    "\n",
    "# Test the function with an example input\n",
    "arr = [1, 2, 3]\n",
    "result = subset_element(arr)\n",
    "print(result)"
   ]
  },
  {
   "cell_type": "code",
   "execution_count": 23,
   "id": "ac64a691",
   "metadata": {},
   "outputs": [
    {
     "data": {
      "text/plain": [
       "[(1, 2, 3), (2, 3), (1, 2)]"
      ]
     },
     "execution_count": 23,
     "metadata": {},
     "output_type": "execute_result"
    }
   ],
   "source": [
    "[(1,2,3),(2,3),(1,2)]"
   ]
  },
  {
   "cell_type": "code",
   "execution_count": 26,
   "id": "52cb8cf9",
   "metadata": {},
   "outputs": [
    {
     "data": {
      "text/plain": [
       "tuple"
      ]
     },
     "execution_count": 26,
     "metadata": {},
     "output_type": "execute_result"
    }
   ],
   "source": [
    "a=(1,2,3)\n",
    "type(a)"
   ]
  },
  {
   "cell_type": "code",
   "execution_count": 27,
   "id": "b79749fb",
   "metadata": {},
   "outputs": [],
   "source": [
    "b=list(a)"
   ]
  },
  {
   "cell_type": "code",
   "execution_count": 28,
   "id": "f4ecac21",
   "metadata": {},
   "outputs": [
    {
     "data": {
      "text/plain": [
       "[1, 2, 3]"
      ]
     },
     "execution_count": 28,
     "metadata": {},
     "output_type": "execute_result"
    }
   ],
   "source": [
    "b"
   ]
  },
  {
   "cell_type": "code",
   "execution_count": 44,
   "id": "de4359da",
   "metadata": {},
   "outputs": [
    {
     "name": "stdout",
     "output_type": "stream",
     "text": [
      "[[], [1], [2], [1, 2], [3], [1, 3], [2, 3], [1, 2, 3]]\n"
     ]
    }
   ],
   "source": [
    "def subset_element(arr):\n",
    "    if not arr:\n",
    "        return [[]]\n",
    "a\n",
    "    first_element = arr[0]\n",
    "    rest_subsets = subset_element(arr[1:])\n",
    "\n",
    "    all_subsets = []\n",
    "    for subset in rest_subsets:\n",
    "        all_subsets.append(subset)\n",
    "        all_subsets.append([first_element] + subset)\n",
    "\n",
    "    return all_subsets\n",
    "\n",
    "arr = [1, 2, 3]\n",
    "result = subset_element(arr)\n",
    "print(result)"
   ]
  },
  {
   "cell_type": "code",
   "execution_count": 46,
   "id": "b6c37057",
   "metadata": {},
   "outputs": [
    {
     "name": "stdout",
     "output_type": "stream",
     "text": [
      "[[1, 2, 3], [1, 3], [2, 3], [3]]\n"
     ]
    }
   ],
   "source": []
  },
  {
   "cell_type": "markdown",
   "id": "69beb3f8",
   "metadata": {},
   "source": [
    "## Create Permutation of a string"
   ]
  },
  {
   "cell_type": "code",
   "execution_count": 4,
   "id": "810c8a34",
   "metadata": {},
   "outputs": [
    {
     "data": {
      "text/plain": [
       "'bac'"
      ]
     },
     "execution_count": 4,
     "metadata": {},
     "output_type": "execute_result"
    }
   ],
   "source": [
    "def swap(string,i,j):\n",
    "    str_l=list(string)\n",
    "    temp=str_l[i]\n",
    "    str_l[i]=str_l[j]\n",
    "    str_l[j]=temp\n",
    "    return \"\".join(str_l)\n",
    "\n",
    "\n",
    "swap(\"abc\",0,1)\n",
    "    \n",
    "    "
   ]
  },
  {
   "cell_type": "code",
   "execution_count": 14,
   "id": "bb781e8b",
   "metadata": {},
   "outputs": [],
   "source": [
    "def permutation(string):\n",
    "    answers=[]\n",
    "    string=string\n",
    "    \n",
    "    def swap(s,i,j):\n",
    "        str_l=list(s)\n",
    "        temp=str_l[i]\n",
    "        str_l[i]=str_l[j]\n",
    "        str_l[j]=temp\n",
    "        return \"\".join(str_l)\n",
    "    \n",
    "    def helper(ind):\n",
    "        if (ind>=len(string)):\n",
    "            answers.append(string)\n",
    "            return\n",
    "        for i in range(ind, len(string)):\n",
    "            temp_string=swap(temp_string,ind,i)\n",
    "            helper(ind+1)\n",
    "            string = swap(temp_string, i, ind)\n",
    "    helper(0)\n",
    "    return answers\n",
    "            \n"
   ]
  },
  {
   "cell_type": "code",
   "execution_count": 22,
   "id": "f1f3a6ff",
   "metadata": {},
   "outputs": [
    {
     "name": "stdout",
     "output_type": "stream",
     "text": [
      "abc\n",
      "acb\n",
      "bac\n",
      "bca\n",
      "cba\n",
      "cab\n"
     ]
    }
   ],
   "source": [
    "def permutation(string):\n",
    "    answers = []\n",
    "\n",
    "    def swap(s, i, j):\n",
    "        str_list = list(s)\n",
    "        temp = str_list[i]\n",
    "        str_list[i] = str_list[j]\n",
    "        str_list[j] = temp\n",
    "        return \"\".join(str_list)\n",
    "\n",
    "    def helper(ind, current_string):\n",
    "        if ind >= len(current_string):\n",
    "            answers.append(current_string)\n",
    "            return\n",
    "        for i in range(ind, len(current_string)):\n",
    "            modified_string = swap(current_string, ind, i)\n",
    "            helper(ind + 1, modified_string)\n",
    "            # No need to restore the original string in this implementation\n",
    "\n",
    "    helper(0, string)\n",
    "    return answers\n",
    "\n",
    "# Test the function\n",
    "input_str = \"abc\"\n",
    "result = permutation(input_str)\n",
    "\n",
    "\n"
   ]
  },
  {
   "cell_type": "code",
   "execution_count": 19,
   "id": "2bac85df",
   "metadata": {},
   "outputs": [
    {
     "name": "stdout",
     "output_type": "stream",
     "text": [
      "['abc', 'abc', 'abc', 'abc', 'abc', 'abc']\n"
     ]
    }
   ],
   "source": [
    "a=permutation(\"abc\")\n",
    "print(a)"
   ]
  },
  {
   "cell_type": "code",
   "execution_count": null,
   "id": "f6acf13b",
   "metadata": {},
   "outputs": [],
   "source": [
    "string =\"abc\"\n",
    " def permutation(string):\n",
    "    answers=[]\n",
    "    \n",
    "    def helper(temp_string,ind): # ind=2 temp-string=\"abc\"\n",
    "        if ind==len(string):\n",
    "            answers.append(temp_string)\n",
    "            return\n",
    "        temp_string+=string[ind]\n",
    "        helper(temp_string,ind+1)\n",
    "        temp_string=temp_string[:-1]\n",
    "        helper()\n",
    "        \n",
    "\n"
   ]
  },
  {
   "cell_type": "markdown",
   "id": "66ea53f2",
   "metadata": {},
   "source": [
    "## RAT IN A MAZE"
   ]
  },
  {
   "cell_type": "code",
   "execution_count": 44,
   "id": "4a30ce19",
   "metadata": {},
   "outputs": [],
   "source": [
    "\n",
    "N = 4\n",
    "m = [[1, 0, 0, 0],\n",
    "        [1, 1, 0, 1], \n",
    "        [1, 1, 0, 0],\n",
    "        [0, 1, 1, 1]]"
   ]
  },
  {
   "cell_type": "code",
   "execution_count": 49,
   "id": "b386b6d6",
   "metadata": {},
   "outputs": [],
   "source": [
    "def RatMaze(m,N):\n",
    "    directions={\"U\":[-1,0],\"D\":[1,0],\"L\":[0,-1],\"R\":[0,1]}\n",
    "    answers=[]\n",
    "    init_pt=[0,0]\n",
    "    end_pt=[N-1,N-1]\n",
    "    \n",
    "    def check_pt_valid(pt):\n",
    "        return  pt[0]>=0 and pt[0]<=N-1 and pt[1]>=0 and pt[1]<=N-1\n",
    "    \n",
    "    def helper(pt,temp_answer):\n",
    "        if pt==end_pt:\n",
    "            answers.append(\"\".join(temp_answer))\n",
    "            return\n",
    "        \n",
    "        for i,d in directions.items():\n",
    "            init_pt[0]=init_pt[0]+d[0]\n",
    "            init_pt[1]=init_pt[1]+d[1]\n",
    "            if check_pt_valid(init_pt) and m[init_pt[0]][init_pt[1]]==1:\n",
    "                m[init_pt[0]-d[0]][init_pt[1]-d[1]]=0\n",
    "\n",
    "                \n",
    "                temp_answer.append(i)\n",
    "                helper(init_pt,temp_answer)\n",
    "                temp_answer.pop()\n",
    "\n",
    "                m[init_pt[0]-d[0]][init_pt[1]-d[1]]=1\n",
    "                \n",
    "            init_pt[0]=init_pt[0]-d[0]\n",
    "            init_pt[1]=init_pt[1]-d[1]\n",
    "            \n",
    "    helper([0,0],[])\n",
    "    return answers"
   ]
  },
  {
   "cell_type": "code",
   "execution_count": 50,
   "id": "0a7f360e",
   "metadata": {},
   "outputs": [
    {
     "data": {
      "text/plain": [
       "['DDRDRR', 'DRDDRR']"
      ]
     },
     "execution_count": 50,
     "metadata": {},
     "output_type": "execute_result"
    }
   ],
   "source": [
    "RatMaze(m,4)"
   ]
  },
  {
   "cell_type": "code",
   "execution_count": 9,
   "id": "2ab3cce5",
   "metadata": {},
   "outputs": [
    {
     "data": {
      "text/plain": [
       "[[0, 1, 0, 0], [0, 1, 0, 1], [0, 0, 0, 0], [0, 1, 1, 1]]"
      ]
     },
     "execution_count": 9,
     "metadata": {},
     "output_type": "execute_result"
    }
   ],
   "source": [
    "m"
   ]
  },
  {
   "cell_type": "code",
   "execution_count": 2,
   "id": "38d4a131",
   "metadata": {},
   "outputs": [
    {
     "name": "stdout",
     "output_type": "stream",
     "text": [
      "U (-1, 0)\n",
      "D (1, 0)\n",
      "L (0, -1)\n",
      "R (0, 1)\n"
     ]
    }
   ],
   "source": [
    "directions={\"U\":(-1,0),\"D\":(1,0),\"L\":(0,-1),\"R\":(0,1)}\n",
    "for i,d in directions.items():\n",
    "    print(i,d)"
   ]
  },
  {
   "cell_type": "code",
   "execution_count": 3,
   "id": "41c5abd5",
   "metadata": {},
   "outputs": [
    {
     "data": {
      "text/plain": [
       "(0, 0, -1, 0)"
      ]
     },
     "execution_count": 3,
     "metadata": {},
     "output_type": "execute_result"
    }
   ],
   "source": [
    "init_pt=(0,0)\n",
    "u=(-1,0)\n",
    "init_pt+u"
   ]
  },
  {
   "cell_type": "markdown",
   "id": "4b359a0d",
   "metadata": {},
   "source": [
    "## Palindrome Partitions"
   ]
  },
  {
   "cell_type": "code",
   "execution_count": null,
   "id": "193e68ff",
   "metadata": {},
   "outputs": [],
   "source": [
    "str=\"aab\"\n",
    "out=[[\"a\",\"a\",\"b\"],[\"aa\",\"b\"]]"
   ]
  },
  {
   "cell_type": "code",
   "execution_count": null,
   "id": "8a17048d",
   "metadata": {},
   "outputs": [],
   "source": [
    "def partition_palindrome(string):\n",
    "    answers=[]\n",
    "    n=len(string)\n",
    "    \n",
    "    def isPalindrome(sttr):\n",
    " \n",
    "        # Run loop from 0 to len/2\n",
    "        for i in range(0, int(len(sttr)/2)):\n",
    "            if sttr[i] != str[len(sttr)-i-1]:\n",
    "                return False\n",
    "        return True\n",
    "    \n",
    "    def helper_partition(temp=[],s,prev_idx=0,curr_idx=0):\n",
    "        if curr_idx==len(string):\n",
    "            answers.append(temp)\n",
    "            return\n",
    "        \n",
    "        for idx in range(curr_idx,len(string)):\n",
    "            # changes\n",
    "            prev_idx=curr_idx\n",
    "            curr_idx=idx\n",
    "            if(isPalindrome(string[prev_idx:curr_idx+1])):\n",
    "                temp.append(string[prev_idx:curr_idx+1])\n",
    "        \n",
    "        \n",
    "        \n",
    "    \n",
    "    "
   ]
  },
  {
   "cell_type": "code",
   "execution_count": null,
   "id": "21aa09d2",
   "metadata": {},
   "outputs": [],
   "source": [
    "def partition_palindrome(string):\n",
    "    answers=[]\n",
    "    n=len(string)\n",
    "    \n",
    "    def isPalindrome(sttr):\n",
    " \n",
    "        # Run loop from 0 to len/2\n",
    "        for i in range(0, int(len(sttr)/2)):\n",
    "            if sttr[i] != str[len(sttr)-i-1]:\n",
    "                return False\n",
    "        return True\n",
    "    def helper(s,temp_arr=[]):\n",
    "        if s==\"\":\n",
    "            for s in temp_arr:\n",
    "                if ! isPalindrome(s):\n",
    "            "
   ]
  }
 ],
 "metadata": {
  "kernelspec": {
   "display_name": "Python 3 (ipykernel)",
   "language": "python",
   "name": "python3"
  },
  "language_info": {
   "codemirror_mode": {
    "name": "ipython",
    "version": 3
   },
   "file_extension": ".py",
   "mimetype": "text/x-python",
   "name": "python",
   "nbconvert_exporter": "python",
   "pygments_lexer": "ipython3",
   "version": "3.7.16"
  }
 },
 "nbformat": 4,
 "nbformat_minor": 5
}
